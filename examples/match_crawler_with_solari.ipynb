{
 "cells": [
  {
   "cell_type": "code",
   "execution_count": null,
   "metadata": {},
   "outputs": [],
   "source": [
    "from targon.templates.match_template import *"
   ]
  },
  {
   "cell_type": "code",
   "execution_count": null,
   "metadata": {},
   "outputs": [],
   "source": [
    "# Set server and API key\n",
    "targon.set_server(\"euw1\")\n",
    "targon.set_api_key(\"RGAPI-XXXX\")"
   ]
  },
  {
   "cell_type": "code",
   "execution_count": null,
   "metadata": {},
   "outputs": [],
   "source": [
    "# Set limitation in matchlist (highly recommended)\n",
    "matchlist.set_input_args({\"beginTime\":1618358400000,\"endTime\":1618444800000,\"queue\":420})"
   ]
  },
  {
   "cell_type": "code",
   "execution_count": null,
   "metadata": {},
   "outputs": [],
   "source": [
    "# Set the number of callers (recommended to reach methods limits with production rate limits)\n",
    "match.set_n_callers(50)\n",
    "matchlist.set_n_callers(100)\n",
    "\n",
    "# Set the number of callers (recommended for development keys limits focusing on match data)\n",
    "match.set_n_callers(10)\n",
    "matchlist.set_n_callers(1)"
   ]
  },
  {
   "cell_type": "code",
   "execution_count": null,
   "metadata": {},
   "outputs": [],
   "source": [
    "# You need to install solari separataly to use that\n",
    "from targon.addons import Leona\n",
    "from solari.stats import ChampionPickrate, ChampionWinrate, ChampionBanrate, ChampionPresenceRate\n",
    "\n",
    "# Create a Leona instance to use the match data\n",
    "leona = Leona([\n",
    "    ChampionPickrate(),\n",
    "    ChampionWinrate(),\n",
    "    ChampionBanrate(),\n",
    "    ChampionPresenceRate()\n",
    "])\n",
    "\n",
    "# Plug the leona.push_match function to the match callback\n",
    "match.add_callback(leona.push_match)"
   ]
  },
  {
   "cell_type": "code",
   "execution_count": null,
   "metadata": {},
   "outputs": [],
   "source": [
    "# Not awaited in a notebook to keep the hand\n",
    "targon.run(awaited=False)"
   ]
  },
  {
   "cell_type": "code",
   "execution_count": null,
   "metadata": {},
   "outputs": [],
   "source": [
    "# Command to monitor Targon from a notebook\n",
    "await targon.print_status_loop()"
   ]
  },
  {
   "cell_type": "code",
   "execution_count": null,
   "metadata": {},
   "outputs": [],
   "source": [
    "stats = leona.get_stats()\n",
    "stats"
   ]
  }
 ],
 "metadata": {
  "kernelspec": {
   "display_name": "Python 3.8",
   "language": "python",
   "name": "python38"
  },
  "language_info": {
   "codemirror_mode": {
    "name": "ipython",
    "version": 3
   },
   "file_extension": ".py",
   "mimetype": "text/x-python",
   "name": "python",
   "nbconvert_exporter": "python",
   "pygments_lexer": "ipython3",
   "version": "3.8.2"
  }
 },
 "nbformat": 4,
 "nbformat_minor": 4
}
